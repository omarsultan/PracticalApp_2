{
 "cells": [
  {
   "cell_type": "code",
   "execution_count": 1,
   "id": "95aaee2b",
   "metadata": {},
   "outputs": [],
   "source": [
    "import pandas as pd \n",
    "import seaborn as sns\n",
    "import matplotlib.pyplot as plt\n",
    "import numpy as np\n",
    "\n",
    "from scipy import stats\n",
    "from datetime import datetime\n",
    "\n",
    "from sklearn.preprocessing import OneHotEncoder, StandardScaler, PolynomialFeatures\n",
    "from sklearn.model_selection import GridSearchCV, train_test_split,\n",
    "from sklearn.linear_model import LinearRegression, Ridge, Lasso\n",
    "from sklearn.utils import shuffle \n",
    "from sklearn.metrics import mean_squared_error\n",
    "from sklearn.pipeline import Pipeline\n",
    "\n",
    "\n",
    "import warnings\n",
    "warnings.filterwarnings(\"ignore\")"
   ]
  },
  {
   "cell_type": "markdown",
   "id": "4c5cfd61",
   "metadata": {},
   "source": [
    "# Clean Data"
   ]
  },
  {
   "cell_type": "markdown",
   "id": "ab0e9115",
   "metadata": {},
   "source": [
    "This notebook cleans the source data and saves a clean, labeld  CSV file for the analysis and modeling."
   ]
  },
  {
   "cell_type": "code",
   "execution_count": 2,
   "id": "6b1fd715",
   "metadata": {},
   "outputs": [],
   "source": [
    "df = pd.read_csv('data/vehicles.csv')"
   ]
  },
  {
   "cell_type": "code",
   "execution_count": 3,
   "id": "eb9909e8",
   "metadata": {},
   "outputs": [
    {
     "name": "stdout",
     "output_type": "stream",
     "text": [
      "<class 'pandas.core.frame.DataFrame'>\n",
      "RangeIndex: 426880 entries, 0 to 426879\n",
      "Data columns (total 18 columns):\n",
      " #   Column        Non-Null Count   Dtype  \n",
      "---  ------        --------------   -----  \n",
      " 0   id            426880 non-null  int64  \n",
      " 1   region        426880 non-null  object \n",
      " 2   price         426880 non-null  int64  \n",
      " 3   year          425675 non-null  float64\n",
      " 4   manufacturer  409234 non-null  object \n",
      " 5   model         421603 non-null  object \n",
      " 6   condition     252776 non-null  object \n",
      " 7   cylinders     249202 non-null  object \n",
      " 8   fuel          423867 non-null  object \n",
      " 9   odometer      422480 non-null  float64\n",
      " 10  title_status  418638 non-null  object \n",
      " 11  transmission  424324 non-null  object \n",
      " 12  VIN           265838 non-null  object \n",
      " 13  drive         296313 non-null  object \n",
      " 14  size          120519 non-null  object \n",
      " 15  type          334022 non-null  object \n",
      " 16  paint_color   296677 non-null  object \n",
      " 17  state         426880 non-null  object \n",
      "dtypes: float64(2), int64(2), object(14)\n",
      "memory usage: 58.6+ MB\n"
     ]
    }
   ],
   "source": [
    "df.info()"
   ]
  },
  {
   "cell_type": "code",
   "execution_count": 4,
   "id": "0fdc425c",
   "metadata": {},
   "outputs": [
    {
     "data": {
      "text/html": [
       "<div>\n",
       "<style scoped>\n",
       "    .dataframe tbody tr th:only-of-type {\n",
       "        vertical-align: middle;\n",
       "    }\n",
       "\n",
       "    .dataframe tbody tr th {\n",
       "        vertical-align: top;\n",
       "    }\n",
       "\n",
       "    .dataframe thead th {\n",
       "        text-align: right;\n",
       "    }\n",
       "</style>\n",
       "<table border=\"1\" class=\"dataframe\">\n",
       "  <thead>\n",
       "    <tr style=\"text-align: right;\">\n",
       "      <th></th>\n",
       "      <th>id</th>\n",
       "      <th>region</th>\n",
       "      <th>price</th>\n",
       "      <th>year</th>\n",
       "      <th>manufacturer</th>\n",
       "      <th>model</th>\n",
       "      <th>condition</th>\n",
       "      <th>cylinders</th>\n",
       "      <th>fuel</th>\n",
       "      <th>odometer</th>\n",
       "      <th>title_status</th>\n",
       "      <th>transmission</th>\n",
       "      <th>VIN</th>\n",
       "      <th>drive</th>\n",
       "      <th>size</th>\n",
       "      <th>type</th>\n",
       "      <th>paint_color</th>\n",
       "      <th>state</th>\n",
       "    </tr>\n",
       "  </thead>\n",
       "  <tbody>\n",
       "    <tr>\n",
       "      <th>0</th>\n",
       "      <td>7222695916</td>\n",
       "      <td>prescott</td>\n",
       "      <td>6000</td>\n",
       "      <td>NaN</td>\n",
       "      <td>NaN</td>\n",
       "      <td>NaN</td>\n",
       "      <td>NaN</td>\n",
       "      <td>NaN</td>\n",
       "      <td>NaN</td>\n",
       "      <td>NaN</td>\n",
       "      <td>NaN</td>\n",
       "      <td>NaN</td>\n",
       "      <td>NaN</td>\n",
       "      <td>NaN</td>\n",
       "      <td>NaN</td>\n",
       "      <td>NaN</td>\n",
       "      <td>NaN</td>\n",
       "      <td>az</td>\n",
       "    </tr>\n",
       "    <tr>\n",
       "      <th>1</th>\n",
       "      <td>7218891961</td>\n",
       "      <td>fayetteville</td>\n",
       "      <td>11900</td>\n",
       "      <td>NaN</td>\n",
       "      <td>NaN</td>\n",
       "      <td>NaN</td>\n",
       "      <td>NaN</td>\n",
       "      <td>NaN</td>\n",
       "      <td>NaN</td>\n",
       "      <td>NaN</td>\n",
       "      <td>NaN</td>\n",
       "      <td>NaN</td>\n",
       "      <td>NaN</td>\n",
       "      <td>NaN</td>\n",
       "      <td>NaN</td>\n",
       "      <td>NaN</td>\n",
       "      <td>NaN</td>\n",
       "      <td>ar</td>\n",
       "    </tr>\n",
       "    <tr>\n",
       "      <th>2</th>\n",
       "      <td>7221797935</td>\n",
       "      <td>florida keys</td>\n",
       "      <td>21000</td>\n",
       "      <td>NaN</td>\n",
       "      <td>NaN</td>\n",
       "      <td>NaN</td>\n",
       "      <td>NaN</td>\n",
       "      <td>NaN</td>\n",
       "      <td>NaN</td>\n",
       "      <td>NaN</td>\n",
       "      <td>NaN</td>\n",
       "      <td>NaN</td>\n",
       "      <td>NaN</td>\n",
       "      <td>NaN</td>\n",
       "      <td>NaN</td>\n",
       "      <td>NaN</td>\n",
       "      <td>NaN</td>\n",
       "      <td>fl</td>\n",
       "    </tr>\n",
       "    <tr>\n",
       "      <th>3</th>\n",
       "      <td>7222270760</td>\n",
       "      <td>worcester / central MA</td>\n",
       "      <td>1500</td>\n",
       "      <td>NaN</td>\n",
       "      <td>NaN</td>\n",
       "      <td>NaN</td>\n",
       "      <td>NaN</td>\n",
       "      <td>NaN</td>\n",
       "      <td>NaN</td>\n",
       "      <td>NaN</td>\n",
       "      <td>NaN</td>\n",
       "      <td>NaN</td>\n",
       "      <td>NaN</td>\n",
       "      <td>NaN</td>\n",
       "      <td>NaN</td>\n",
       "      <td>NaN</td>\n",
       "      <td>NaN</td>\n",
       "      <td>ma</td>\n",
       "    </tr>\n",
       "    <tr>\n",
       "      <th>4</th>\n",
       "      <td>7210384030</td>\n",
       "      <td>greensboro</td>\n",
       "      <td>4900</td>\n",
       "      <td>NaN</td>\n",
       "      <td>NaN</td>\n",
       "      <td>NaN</td>\n",
       "      <td>NaN</td>\n",
       "      <td>NaN</td>\n",
       "      <td>NaN</td>\n",
       "      <td>NaN</td>\n",
       "      <td>NaN</td>\n",
       "      <td>NaN</td>\n",
       "      <td>NaN</td>\n",
       "      <td>NaN</td>\n",
       "      <td>NaN</td>\n",
       "      <td>NaN</td>\n",
       "      <td>NaN</td>\n",
       "      <td>nc</td>\n",
       "    </tr>\n",
       "    <tr>\n",
       "      <th>...</th>\n",
       "      <td>...</td>\n",
       "      <td>...</td>\n",
       "      <td>...</td>\n",
       "      <td>...</td>\n",
       "      <td>...</td>\n",
       "      <td>...</td>\n",
       "      <td>...</td>\n",
       "      <td>...</td>\n",
       "      <td>...</td>\n",
       "      <td>...</td>\n",
       "      <td>...</td>\n",
       "      <td>...</td>\n",
       "      <td>...</td>\n",
       "      <td>...</td>\n",
       "      <td>...</td>\n",
       "      <td>...</td>\n",
       "      <td>...</td>\n",
       "      <td>...</td>\n",
       "    </tr>\n",
       "    <tr>\n",
       "      <th>426875</th>\n",
       "      <td>7301591192</td>\n",
       "      <td>wyoming</td>\n",
       "      <td>23590</td>\n",
       "      <td>2019.0</td>\n",
       "      <td>nissan</td>\n",
       "      <td>maxima s sedan 4d</td>\n",
       "      <td>good</td>\n",
       "      <td>6 cylinders</td>\n",
       "      <td>gas</td>\n",
       "      <td>32226.0</td>\n",
       "      <td>clean</td>\n",
       "      <td>other</td>\n",
       "      <td>1N4AA6AV6KC367801</td>\n",
       "      <td>fwd</td>\n",
       "      <td>NaN</td>\n",
       "      <td>sedan</td>\n",
       "      <td>NaN</td>\n",
       "      <td>wy</td>\n",
       "    </tr>\n",
       "    <tr>\n",
       "      <th>426876</th>\n",
       "      <td>7301591187</td>\n",
       "      <td>wyoming</td>\n",
       "      <td>30590</td>\n",
       "      <td>2020.0</td>\n",
       "      <td>volvo</td>\n",
       "      <td>s60 t5 momentum sedan 4d</td>\n",
       "      <td>good</td>\n",
       "      <td>NaN</td>\n",
       "      <td>gas</td>\n",
       "      <td>12029.0</td>\n",
       "      <td>clean</td>\n",
       "      <td>other</td>\n",
       "      <td>7JR102FKXLG042696</td>\n",
       "      <td>fwd</td>\n",
       "      <td>NaN</td>\n",
       "      <td>sedan</td>\n",
       "      <td>red</td>\n",
       "      <td>wy</td>\n",
       "    </tr>\n",
       "    <tr>\n",
       "      <th>426877</th>\n",
       "      <td>7301591147</td>\n",
       "      <td>wyoming</td>\n",
       "      <td>34990</td>\n",
       "      <td>2020.0</td>\n",
       "      <td>cadillac</td>\n",
       "      <td>xt4 sport suv 4d</td>\n",
       "      <td>good</td>\n",
       "      <td>NaN</td>\n",
       "      <td>diesel</td>\n",
       "      <td>4174.0</td>\n",
       "      <td>clean</td>\n",
       "      <td>other</td>\n",
       "      <td>1GYFZFR46LF088296</td>\n",
       "      <td>NaN</td>\n",
       "      <td>NaN</td>\n",
       "      <td>hatchback</td>\n",
       "      <td>white</td>\n",
       "      <td>wy</td>\n",
       "    </tr>\n",
       "    <tr>\n",
       "      <th>426878</th>\n",
       "      <td>7301591140</td>\n",
       "      <td>wyoming</td>\n",
       "      <td>28990</td>\n",
       "      <td>2018.0</td>\n",
       "      <td>lexus</td>\n",
       "      <td>es 350 sedan 4d</td>\n",
       "      <td>good</td>\n",
       "      <td>6 cylinders</td>\n",
       "      <td>gas</td>\n",
       "      <td>30112.0</td>\n",
       "      <td>clean</td>\n",
       "      <td>other</td>\n",
       "      <td>58ABK1GG4JU103853</td>\n",
       "      <td>fwd</td>\n",
       "      <td>NaN</td>\n",
       "      <td>sedan</td>\n",
       "      <td>silver</td>\n",
       "      <td>wy</td>\n",
       "    </tr>\n",
       "    <tr>\n",
       "      <th>426879</th>\n",
       "      <td>7301591129</td>\n",
       "      <td>wyoming</td>\n",
       "      <td>30590</td>\n",
       "      <td>2019.0</td>\n",
       "      <td>bmw</td>\n",
       "      <td>4 series 430i gran coupe</td>\n",
       "      <td>good</td>\n",
       "      <td>NaN</td>\n",
       "      <td>gas</td>\n",
       "      <td>22716.0</td>\n",
       "      <td>clean</td>\n",
       "      <td>other</td>\n",
       "      <td>WBA4J1C58KBM14708</td>\n",
       "      <td>rwd</td>\n",
       "      <td>NaN</td>\n",
       "      <td>coupe</td>\n",
       "      <td>NaN</td>\n",
       "      <td>wy</td>\n",
       "    </tr>\n",
       "  </tbody>\n",
       "</table>\n",
       "<p>426880 rows × 18 columns</p>\n",
       "</div>"
      ],
      "text/plain": [
       "                id                  region  price    year manufacturer  \\\n",
       "0       7222695916                prescott   6000     NaN          NaN   \n",
       "1       7218891961            fayetteville  11900     NaN          NaN   \n",
       "2       7221797935            florida keys  21000     NaN          NaN   \n",
       "3       7222270760  worcester / central MA   1500     NaN          NaN   \n",
       "4       7210384030              greensboro   4900     NaN          NaN   \n",
       "...            ...                     ...    ...     ...          ...   \n",
       "426875  7301591192                 wyoming  23590  2019.0       nissan   \n",
       "426876  7301591187                 wyoming  30590  2020.0        volvo   \n",
       "426877  7301591147                 wyoming  34990  2020.0     cadillac   \n",
       "426878  7301591140                 wyoming  28990  2018.0        lexus   \n",
       "426879  7301591129                 wyoming  30590  2019.0          bmw   \n",
       "\n",
       "                           model condition    cylinders    fuel  odometer  \\\n",
       "0                            NaN       NaN          NaN     NaN       NaN   \n",
       "1                            NaN       NaN          NaN     NaN       NaN   \n",
       "2                            NaN       NaN          NaN     NaN       NaN   \n",
       "3                            NaN       NaN          NaN     NaN       NaN   \n",
       "4                            NaN       NaN          NaN     NaN       NaN   \n",
       "...                          ...       ...          ...     ...       ...   \n",
       "426875         maxima s sedan 4d      good  6 cylinders     gas   32226.0   \n",
       "426876  s60 t5 momentum sedan 4d      good          NaN     gas   12029.0   \n",
       "426877          xt4 sport suv 4d      good          NaN  diesel    4174.0   \n",
       "426878           es 350 sedan 4d      good  6 cylinders     gas   30112.0   \n",
       "426879  4 series 430i gran coupe      good          NaN     gas   22716.0   \n",
       "\n",
       "       title_status transmission                VIN drive size       type  \\\n",
       "0               NaN          NaN                NaN   NaN  NaN        NaN   \n",
       "1               NaN          NaN                NaN   NaN  NaN        NaN   \n",
       "2               NaN          NaN                NaN   NaN  NaN        NaN   \n",
       "3               NaN          NaN                NaN   NaN  NaN        NaN   \n",
       "4               NaN          NaN                NaN   NaN  NaN        NaN   \n",
       "...             ...          ...                ...   ...  ...        ...   \n",
       "426875        clean        other  1N4AA6AV6KC367801   fwd  NaN      sedan   \n",
       "426876        clean        other  7JR102FKXLG042696   fwd  NaN      sedan   \n",
       "426877        clean        other  1GYFZFR46LF088296   NaN  NaN  hatchback   \n",
       "426878        clean        other  58ABK1GG4JU103853   fwd  NaN      sedan   \n",
       "426879        clean        other  WBA4J1C58KBM14708   rwd  NaN      coupe   \n",
       "\n",
       "       paint_color state  \n",
       "0              NaN    az  \n",
       "1              NaN    ar  \n",
       "2              NaN    fl  \n",
       "3              NaN    ma  \n",
       "4              NaN    nc  \n",
       "...            ...   ...  \n",
       "426875         NaN    wy  \n",
       "426876         red    wy  \n",
       "426877       white    wy  \n",
       "426878      silver    wy  \n",
       "426879         NaN    wy  \n",
       "\n",
       "[426880 rows x 18 columns]"
      ]
     },
     "execution_count": 4,
     "metadata": {},
     "output_type": "execute_result"
    }
   ],
   "source": [
    "df"
   ]
  },
  {
   "cell_type": "markdown",
   "id": "5df4d331",
   "metadata": {},
   "source": [
    "## Tighten up the data"
   ]
  },
  {
   "cell_type": "markdown",
   "id": "b080c2f8",
   "metadata": {},
   "source": [
    "There is quite a spread to the data and quite a few outliers, so let's tighten up the data set to focus on the kinds of cars a used car dealership might see (as opposed to an auction house)."
   ]
  },
  {
   "cell_type": "markdown",
   "id": "2ad41c49",
   "metadata": {},
   "source": [
    "Let eliminate outliers in the price column using z-score"
   ]
  },
  {
   "cell_type": "code",
   "execution_count": 5,
   "id": "e1010727",
   "metadata": {
    "scrolled": true
   },
   "outputs": [
    {
     "name": "stdout",
     "output_type": "stream",
     "text": [
      "                id                   region       price    year  \\\n",
      "280     7315849335               birmingham   987654321  1960.0   \n",
      "1838    7315961634                   dothan    99999999  1993.0   \n",
      "29386   7305265540          humboldt county  1111111111  1999.0   \n",
      "37409   7314053169                  modesto  1111111111  2020.0   \n",
      "37410   7314052904                  modesto  3009548743  2021.0   \n",
      "91576   7309730903                 delaware  3024942282  2000.0   \n",
      "122470  7315836487                  atlanta   987654321  1960.0   \n",
      "137807  7314339777  spokane / coeur d'alene   123456789  1999.0   \n",
      "153082  7305153975             indianapolis  1234567890  2006.0   \n",
      "184704  7304345156                frederick  1410065407  1989.0   \n",
      "193736  7315524207                ann arbor   123456789  2015.0   \n",
      "207080  7316831610                 muskegon   123456789  2003.0   \n",
      "230753  7308010868                asheville   135008900  2008.0   \n",
      "241404  7313748377    raleigh / durham / CH   113456789  1980.0   \n",
      "257840  7309735768             south jersey  3024942282  2000.0   \n",
      "288356  7302369138           akron / canton   123456789  1965.0   \n",
      "307488  7303218798               stillwater   123456789  1996.0   \n",
      "318592  7308056031                   eugene  3736928711  2007.0   \n",
      "356716  7302445002                knoxville  3736928711  1999.0   \n",
      "358555  7317052348                nashville   123456789  2021.0   \n",
      "\n",
      "         manufacturer                   model  condition    cylinders    fuel  \\\n",
      "280         chevrolet                     NaN        NaN          NaN     gas   \n",
      "1838             ford                  ranger        NaN          NaN     gas   \n",
      "29386            ford  f350 super duty lariat       good  8 cylinders  diesel   \n",
      "37409            jeep                     NaN        NaN          NaN     gas   \n",
      "37410       chevrolet                     NaN        NaN  8 cylinders     gas   \n",
      "91576   mercedes-benz               benz e320        NaN          NaN     gas   \n",
      "122470      chevrolet                     NaN        NaN          NaN     gas   \n",
      "137807          buick                   regal   like new  6 cylinders     gas   \n",
      "153082          volvo                     vnl       fair          NaN   other   \n",
      "184704           jeep                wrangler        NaN          NaN  diesel   \n",
      "193736      chevrolet                   cruze   like new          NaN     gas   \n",
      "207080            NaN               Chevy/gmc       good  8 cylinders  diesel   \n",
      "230753         nissan        titan se kingcab   like new  8 cylinders     gas   \n",
      "241404            bmw                     NaN        NaN          NaN     gas   \n",
      "257840  mercedes-benz               benz s430        NaN          NaN     gas   \n",
      "288356      chevrolet                 project        NaN          NaN     gas   \n",
      "307488            gmc             sierra 2500       fair  8 cylinders     gas   \n",
      "318592         toyota                  tundra  excellent  8 cylinders     gas   \n",
      "356716         toyota                 4runner       fair  6 cylinders     gas   \n",
      "358555            NaN                Rare Car       good  8 cylinders     gas   \n",
      "\n",
      "         odometer title_status transmission                VIN drive  \\\n",
      "280      999999.0        clean       manual                NaN   NaN   \n",
      "1838      99999.0        clean    automatic                NaN   NaN   \n",
      "29386    149000.0        clean    automatic                NaN   rwd   \n",
      "37409      1000.0        clean    automatic                NaN   4wd   \n",
      "37410      1000.0        clean    automatic                NaN   4wd   \n",
      "91576    100000.0        clean    automatic                NaN   NaN   \n",
      "122470  9999999.0        clean       manual                NaN   NaN   \n",
      "137807    96000.0        clean    automatic                NaN   fwd   \n",
      "153082   200000.0        clean       manual                NaN   NaN   \n",
      "184704   103000.0        clean       manual                NaN   NaN   \n",
      "193736    64181.0        clean    automatic  1G1PC5SB0F7246637   fwd   \n",
      "207080  1234567.0        clean    automatic                NaN   fwd   \n",
      "230753   110500.0        clean    automatic                NaN   4wd   \n",
      "241404   100000.0        clean    automatic                NaN   NaN   \n",
      "257840   100000.0        clean    automatic                NaN   NaN   \n",
      "288356   100000.0        clean    automatic                NaN   NaN   \n",
      "307488   320000.0        clean    automatic                NaN   4wd   \n",
      "318592   164000.0        clean    automatic                NaN   4wd   \n",
      "356716   211000.0        clean    automatic                NaN   4wd   \n",
      "358555        0.0        clean        other                NaN   rwd   \n",
      "\n",
      "             size    type paint_color state  \n",
      "280           NaN     NaN         NaN    al  \n",
      "1838          NaN     NaN         NaN    al  \n",
      "29386   full-size  pickup       white    ca  \n",
      "37409         NaN     NaN         NaN    ca  \n",
      "37410         NaN     NaN         NaN    ca  \n",
      "91576         NaN     NaN         NaN    de  \n",
      "122470        NaN     NaN         NaN    ga  \n",
      "137807  full-size   sedan       white    id  \n",
      "153082        NaN     NaN       black    in  \n",
      "184704        NaN     SUV         NaN    md  \n",
      "193736    compact   sedan         red    mi  \n",
      "207080        NaN  pickup         NaN    mi  \n",
      "230753  full-size   truck        grey    nc  \n",
      "241404        NaN     NaN         NaN    nc  \n",
      "257840        NaN     NaN         NaN    nj  \n",
      "288356        NaN     NaN         NaN    oh  \n",
      "307488  full-size  pickup       black    ok  \n",
      "318592  full-size  pickup      silver    or  \n",
      "356716   mid-size     NaN       green    tn  \n",
      "358555        NaN     NaN         NaN    tn  \n"
     ]
    }
   ],
   "source": [
    "z = np.abs(stats.zscore(df['price']))\n",
    "\n",
    "threshold = 3\n",
    "outliers = df[z > threshold]\n",
    "\n",
    "print(outliers)"
   ]
  },
  {
   "cell_type": "code",
   "execution_count": 6,
   "id": "07008791",
   "metadata": {},
   "outputs": [],
   "source": [
    "# Drop the outliers\n",
    "df = df.drop(outliers.index)"
   ]
  },
  {
   "cell_type": "code",
   "execution_count": 7,
   "id": "6b1d73f3",
   "metadata": {
    "scrolled": true
   },
   "outputs": [
    {
     "name": "stdout",
     "output_type": "stream",
     "text": [
      "<class 'pandas.core.frame.DataFrame'>\n",
      "Int64Index: 426860 entries, 0 to 426879\n",
      "Data columns (total 18 columns):\n",
      " #   Column        Non-Null Count   Dtype  \n",
      "---  ------        --------------   -----  \n",
      " 0   id            426860 non-null  int64  \n",
      " 1   region        426860 non-null  object \n",
      " 2   price         426860 non-null  int64  \n",
      " 3   year          425655 non-null  float64\n",
      " 4   manufacturer  409216 non-null  object \n",
      " 5   model         421588 non-null  object \n",
      " 6   condition     252766 non-null  object \n",
      " 7   cylinders     249193 non-null  object \n",
      " 8   fuel          423847 non-null  object \n",
      " 9   odometer      422460 non-null  float64\n",
      " 10  title_status  418618 non-null  object \n",
      " 11  transmission  424304 non-null  object \n",
      " 12  VIN           265837 non-null  object \n",
      " 13  drive         296302 non-null  object \n",
      " 14  size          120512 non-null  object \n",
      " 15  type          334014 non-null  object \n",
      " 16  paint_color   296669 non-null  object \n",
      " 17  state         426860 non-null  object \n",
      "dtypes: float64(2), int64(2), object(14)\n",
      "memory usage: 61.9+ MB\n"
     ]
    }
   ],
   "source": [
    "df.info()"
   ]
  },
  {
   "cell_type": "code",
   "execution_count": 8,
   "id": "1577cb41",
   "metadata": {},
   "outputs": [
    {
     "data": {
      "text/plain": [
       "25003000"
      ]
     },
     "execution_count": 8,
     "metadata": {},
     "output_type": "execute_result"
    }
   ],
   "source": [
    "df['price'].max()"
   ]
  },
  {
   "cell_type": "code",
   "execution_count": 9,
   "id": "e3da93f3",
   "metadata": {},
   "outputs": [
    {
     "data": {
      "text/plain": [
       "0"
      ]
     },
     "execution_count": 9,
     "metadata": {},
     "output_type": "execute_result"
    }
   ],
   "source": [
    "df['price'].min()"
   ]
  },
  {
   "cell_type": "markdown",
   "id": "c7782469",
   "metadata": {},
   "source": [
    "That helped but the range does not seem reasonable for a used case dealership so let's tighten up the data some more--say between $1,000 and $200,000"
   ]
  },
  {
   "cell_type": "code",
   "execution_count": 10,
   "id": "a54ea4b8",
   "metadata": {},
   "outputs": [],
   "source": [
    "df = df[(df.price <200000) & (df.price >= 1000)]"
   ]
  },
  {
   "cell_type": "code",
   "execution_count": 11,
   "id": "3bb7dbb0",
   "metadata": {},
   "outputs": [
    {
     "data": {
      "text/plain": [
       "array([[<Axes: title={'center': 'price'}>]], dtype=object)"
      ]
     },
     "execution_count": 11,
     "metadata": {},
     "output_type": "execute_result"
    },
    {
     "data": {
      "image/png": "[encoded data removed]",
      "text/plain": [
       "<Figure size 640x480 with 1 Axes>"
      ]
     },
     "metadata": {},
     "output_type": "display_data"
    }
   ],
   "source": [
    "df.hist('price')"
   ]
  },
  {
   "cell_type": "code",
   "execution_count": 12,
   "id": "184cc49e",
   "metadata": {},
   "outputs": [
    {
     "data": {
      "text/plain": [
       "array([[<Axes: title={'center': 'year'}>]], dtype=object)"
      ]
     },
     "execution_count": 12,
     "metadata": {},
     "output_type": "execute_result"
    },
    {
     "data": {
      "image/png": "[encoded data removed]",
      "text/plain": [
       "<Figure size 640x480 with 1 Axes>"
      ]
     },
     "metadata": {},
     "output_type": "display_data"
    }
   ],
   "source": [
    "df.hist('year', bins=10)"
   ]
  },
  {
   "cell_type": "markdown",
   "id": "c0e40886",
   "metadata": {},
   "source": [
    "Next, let's drop cards older than 1980"
   ]
  },
  {
   "cell_type": "code",
   "execution_count": 13,
   "id": "43e6f7c1",
   "metadata": {},
   "outputs": [],
   "source": [
    "df = df[(df.year >= 1980)]"
   ]
  },
  {
   "cell_type": "markdown",
   "id": "529713ec",
   "metadata": {},
   "source": [
    "Next, let's drop odomeer readings over 250,000"
   ]
  },
  {
   "cell_type": "code",
   "execution_count": 14,
   "id": "da1f1896",
   "metadata": {},
   "outputs": [],
   "source": [
    "df = df[(df.odometer <= 250000)]"
   ]
  },
  {
   "cell_type": "code",
   "execution_count": 15,
   "id": "29272925",
   "metadata": {},
   "outputs": [
    {
     "name": "stdout",
     "output_type": "stream",
     "text": [
      "<class 'pandas.core.frame.DataFrame'>\n",
      "Int64Index: 363282 entries, 27 to 426879\n",
      "Data columns (total 18 columns):\n",
      " #   Column        Non-Null Count   Dtype  \n",
      "---  ------        --------------   -----  \n",
      " 0   id            363282 non-null  int64  \n",
      " 1   region        363282 non-null  object \n",
      " 2   price         363282 non-null  int64  \n",
      " 3   year          363282 non-null  float64\n",
      " 4   manufacturer  351922 non-null  object \n",
      " 5   model         359794 non-null  object \n",
      " 6   condition     225972 non-null  object \n",
      " 7   cylinders     213938 non-null  object \n",
      " 8   fuel          361178 non-null  object \n",
      " 9   odometer      363282 non-null  float64\n",
      " 10  title_status  357267 non-null  object \n",
      " 11  transmission  361793 non-null  object \n",
      " 12  VIN           229471 non-null  object \n",
      " 13  drive         253940 non-null  object \n",
      " 14  size          101086 non-null  object \n",
      " 15  type          288233 non-null  object \n",
      " 16  paint_color   260487 non-null  object \n",
      " 17  state         363282 non-null  object \n",
      "dtypes: float64(2), int64(2), object(14)\n",
      "memory usage: 52.7+ MB\n"
     ]
    }
   ],
   "source": [
    "df.info()"
   ]
  },
  {
   "cell_type": "markdown",
   "id": "5947894f",
   "metadata": {},
   "source": [
    "Let's drop VIN and ID, not useful for this purpose"
   ]
  },
  {
   "cell_type": "code",
   "execution_count": 16,
   "id": "fb60c0e1",
   "metadata": {},
   "outputs": [],
   "source": [
    "df.drop(['VIN', 'id'], axis=1, inplace=True)"
   ]
  },
  {
   "cell_type": "code",
   "execution_count": 17,
   "id": "11f6986d",
   "metadata": {},
   "outputs": [
    {
     "name": "stdout",
     "output_type": "stream",
     "text": [
      "<class 'pandas.core.frame.DataFrame'>\n",
      "Int64Index: 363282 entries, 27 to 426879\n",
      "Data columns (total 16 columns):\n",
      " #   Column        Non-Null Count   Dtype  \n",
      "---  ------        --------------   -----  \n",
      " 0   region        363282 non-null  object \n",
      " 1   price         363282 non-null  int64  \n",
      " 2   year          363282 non-null  float64\n",
      " 3   manufacturer  351922 non-null  object \n",
      " 4   model         359794 non-null  object \n",
      " 5   condition     225972 non-null  object \n",
      " 6   cylinders     213938 non-null  object \n",
      " 7   fuel          361178 non-null  object \n",
      " 8   odometer      363282 non-null  float64\n",
      " 9   title_status  357267 non-null  object \n",
      " 10  transmission  361793 non-null  object \n",
      " 11  drive         253940 non-null  object \n",
      " 12  size          101086 non-null  object \n",
      " 13  type          288233 non-null  object \n",
      " 14  paint_color   260487 non-null  object \n",
      " 15  state         363282 non-null  object \n",
      "dtypes: float64(2), int64(1), object(13)\n",
      "memory usage: 47.1+ MB\n"
     ]
    }
   ],
   "source": [
    "df.info()"
   ]
  },
  {
   "cell_type": "code",
   "execution_count": 18,
   "id": "1f488888",
   "metadata": {},
   "outputs": [
    {
     "data": {
      "text/plain": [
       "array(['auburn', 'birmingham', 'dothan', 'florence / muscle shoals',\n",
       "       'gadsden-anniston', 'huntsville / decatur', 'mobile', 'montgomery',\n",
       "       'tuscaloosa', 'anchorage / mat-su', 'fairbanks', 'kenai peninsula',\n",
       "       'southeast alaska', 'flagstaff / sedona', 'mohave county',\n",
       "       'phoenix', 'prescott', 'show low', 'sierra vista', 'tucson',\n",
       "       'yuma', 'fayetteville', 'fort smith', 'jonesboro', 'little rock',\n",
       "       'texarkana', 'bakersfield', 'chico', 'fresno / madera',\n",
       "       'gold country', 'hanford-corcoran', 'humboldt county',\n",
       "       'imperial county', 'inland empire', 'los angeles',\n",
       "       'mendocino county', 'merced', 'modesto', 'monterey bay',\n",
       "       'orange county', 'palm springs', 'redding', 'reno / tahoe',\n",
       "       'sacramento', 'san diego', 'san luis obispo', 'santa barbara',\n",
       "       'santa maria', 'SF bay area', 'siskiyou county', 'stockton',\n",
       "       'susanville', 'ventura county', 'visalia-tulare', 'yuba-sutter',\n",
       "       'boulder', 'colorado springs', 'denver', 'eastern CO',\n",
       "       'fort collins / north CO', 'high rockies', 'pueblo',\n",
       "       'western slope', 'eastern CT', 'hartford', 'new haven',\n",
       "       'northwest CT', 'washington, DC', 'delaware', 'daytona beach',\n",
       "       'florida keys', 'ft myers / SW florida', 'gainesville',\n",
       "       'heartland florida', 'jacksonville', 'lakeland',\n",
       "       'north central FL', 'ocala', 'okaloosa / walton', 'orlando',\n",
       "       'panama city', 'pensacola', 'sarasota-bradenton', 'south florida',\n",
       "       'space coast', 'st augustine', 'tallahassee', 'tampa bay area',\n",
       "       'treasure coast', 'albany', 'athens', 'atlanta', 'augusta',\n",
       "       'brunswick', 'columbus', 'macon / warner robins', 'northwest GA',\n",
       "       'savannah / hinesville', 'statesboro', 'valdosta', 'hawaii',\n",
       "       'boise', 'east idaho', 'lewiston / clarkston', 'pullman / moscow',\n",
       "       \"spokane / coeur d'alene\", 'twin falls', 'bloomington-normal',\n",
       "       'champaign urbana', 'chicago', 'decatur', 'la salle co',\n",
       "       'mattoon-charleston', 'peoria', 'quad cities, IA/IL', 'rockford',\n",
       "       'southern illinois', 'springfield', 'st louis, MO', 'western IL',\n",
       "       'bloomington', 'evansville', 'fort wayne', 'indianapolis',\n",
       "       'kokomo', 'lafayette / west lafayette', 'muncie / anderson',\n",
       "       'richmond', 'south bend / michiana', 'terre haute', 'ames',\n",
       "       'cedar rapids', 'des moines', 'dubuque', 'fort dodge', 'iowa city',\n",
       "       'mason city', 'omaha / council bluffs', 'sioux city',\n",
       "       'southeast IA', 'waterloo / cedar falls', 'kansas city, MO',\n",
       "       'lawrence', 'manhattan', 'northwest KS', 'salina', 'southeast KS',\n",
       "       'southwest KS', 'topeka', 'wichita', 'bowling green',\n",
       "       'eastern kentucky', 'huntington-ashland', 'lexington',\n",
       "       'louisville', 'owensboro', 'western KY', 'baton rouge',\n",
       "       'central louisiana', 'houma', 'lafayette', 'lake charles',\n",
       "       'monroe', 'new orleans', 'shreveport', 'maine', 'annapolis',\n",
       "       'baltimore', 'cumberland valley', 'eastern shore', 'frederick',\n",
       "       'southern maryland', 'western maryland', 'boston',\n",
       "       'cape cod / islands', 'south coast', 'western massachusetts',\n",
       "       'worcester / central MA', 'ann arbor', 'battle creek',\n",
       "       'central michigan', 'detroit metro', 'flint', 'grand rapids',\n",
       "       'holland', 'jackson', 'kalamazoo', 'lansing', 'muskegon',\n",
       "       'northern michigan', 'port huron', 'saginaw-midland-baycity',\n",
       "       'southwest michigan', 'the thumb', 'upper peninsula', 'bemidji',\n",
       "       'brainerd', 'duluth / superior', 'fargo / moorhead', 'mankato',\n",
       "       'minneapolis / st paul', 'rochester', 'southwest MN', 'st cloud',\n",
       "       'gulfport / biloxi', 'hattiesburg', 'meridian',\n",
       "       'north mississippi', 'southwest MS', 'columbia / jeff city',\n",
       "       'joplin', 'kansas city', 'kirksville', 'lake of the ozarks',\n",
       "       'southeast missouri', 'st joseph', 'st louis', 'billings',\n",
       "       'bozeman', 'butte', 'eastern montana', 'great falls', 'helena',\n",
       "       'kalispell', 'missoula', 'asheville', 'boone', 'charlotte',\n",
       "       'eastern NC', 'greensboro', 'hickory / lenoir', 'outer banks',\n",
       "       'raleigh / durham / CH', 'wilmington', 'winston-salem',\n",
       "       'grand island', 'lincoln', 'north platte',\n",
       "       'scottsbluff / panhandle', 'elko', 'las vegas', 'central NJ',\n",
       "       'jersey shore', 'north jersey', 'south jersey', 'albuquerque',\n",
       "       'clovis / portales', 'farmington', 'las cruces',\n",
       "       'roswell / carlsbad', 'santa fe / taos', 'binghamton', 'buffalo',\n",
       "       'catskills', 'chautauqua', 'elmira-corning', 'finger lakes',\n",
       "       'glens falls', 'hudson valley', 'ithaca', 'long island',\n",
       "       'new york city', 'oneonta', 'plattsburgh-adirondacks',\n",
       "       'potsdam-canton-massena', 'syracuse', 'twin tiers NY/PA',\n",
       "       'utica-rome-oneida', 'watertown', 'new hampshire', 'bismarck',\n",
       "       'grand forks', 'north dakota', 'akron / canton', 'ashtabula',\n",
       "       'chillicothe', 'cincinnati', 'cleveland', 'dayton / springfield',\n",
       "       'lima / findlay', 'mansfield', 'northern panhandle',\n",
       "       'parkersburg-marietta', 'sandusky', 'toledo', 'tuscarawas co',\n",
       "       'youngstown', 'zanesville / cambridge', 'fort smith, AR', 'lawton',\n",
       "       'northwest OK', 'oklahoma city', 'stillwater', 'texoma', 'tulsa',\n",
       "       'bend', 'corvallis/albany', 'east oregon', 'eugene',\n",
       "       'klamath falls', 'medford-ashland', 'oregon coast', 'portland',\n",
       "       'roseburg', 'salem', 'altoona-johnstown', 'erie', 'harrisburg',\n",
       "       'lancaster', 'lehigh valley', 'meadville', 'philadelphia',\n",
       "       'pittsburgh', 'poconos', 'reading', 'scranton / wilkes-barre',\n",
       "       'state college', 'williamsport', 'york', 'rhode island',\n",
       "       'charleston', 'columbia', 'florence', 'greenville / upstate',\n",
       "       'hilton head', 'myrtle beach', 'northeast SD',\n",
       "       'pierre / central SD', 'rapid city / west SD',\n",
       "       'sioux falls / SE SD', 'south dakota', 'chattanooga',\n",
       "       'clarksville', 'cookeville', 'knoxville', 'memphis', 'nashville',\n",
       "       'tri-cities', 'abilene', 'amarillo', 'austin',\n",
       "       'beaumont / port arthur', 'brownsville', 'college station',\n",
       "       'corpus christi', 'dallas / fort worth', 'deep east texas',\n",
       "       'del rio / eagle pass', 'el paso', 'galveston', 'houston',\n",
       "       'killeen / temple / ft hood', 'laredo', 'lubbock',\n",
       "       'mcallen / edinburg', 'odessa / midland', 'san angelo',\n",
       "       'san antonio', 'san marcos', 'southwest TX', 'tyler / east TX',\n",
       "       'victoria', 'waco', 'wichita falls', 'logan', 'ogden-clearfield',\n",
       "       'provo / orem', 'salt lake city', 'st george', 'vermont',\n",
       "       'charlottesville', 'danville', 'fredericksburg', 'harrisonburg',\n",
       "       'lynchburg', 'new river valley', 'norfolk / hampton roads',\n",
       "       'roanoke', 'southwest VA', 'winchester', 'bellingham',\n",
       "       'kennewick-pasco-richland', 'moses lake', 'olympic peninsula',\n",
       "       'seattle-tacoma', 'skagit / island / SJI', 'wenatchee', 'yakima',\n",
       "       'eastern panhandle', 'morgantown', 'southern WV',\n",
       "       'west virginia (old)', 'appleton-oshkosh-FDL', 'eau claire',\n",
       "       'green bay', 'janesville', 'kenosha-racine', 'la crosse',\n",
       "       'madison', 'milwaukee', 'northern WI', 'sheboygan', 'wausau',\n",
       "       'wyoming'], dtype=object)"
      ]
     },
     "execution_count": 18,
     "metadata": {},
     "output_type": "execute_result"
    }
   ],
   "source": [
    "pd.unique(df['region'])"
   ]
  },
  {
   "cell_type": "code",
   "execution_count": 19,
   "id": "8149be51",
   "metadata": {},
   "outputs": [
    {
     "data": {
      "text/plain": [
       "array(['gmc', 'chevrolet', 'toyota', 'ford', 'jeep', 'nissan', 'ram',\n",
       "       'mazda', 'cadillac', 'honda', 'dodge', 'lexus', 'jaguar', 'buick',\n",
       "       'chrysler', 'volvo', 'audi', 'infiniti', 'lincoln', 'alfa-romeo',\n",
       "       'subaru', nan, 'acura', 'hyundai', 'mercedes-benz', 'bmw',\n",
       "       'mitsubishi', 'volkswagen', 'porsche', 'kia', 'rover', 'ferrari',\n",
       "       'mini', 'pontiac', 'fiat', 'tesla', 'mercury', 'saturn',\n",
       "       'harley-davidson', 'datsun', 'aston-martin', 'land rover',\n",
       "       'morgan'], dtype=object)"
      ]
     },
     "execution_count": 19,
     "metadata": {},
     "output_type": "execute_result"
    }
   ],
   "source": [
    "pd.unique(df['manufacturer'])"
   ]
  },
  {
   "cell_type": "markdown",
   "id": "f88c57d4",
   "metadata": {},
   "source": [
    "The features'region', 'manufacturer'and 'state' seem to have too many unique values to be useful, so lets drop them for now"
   ]
  },
  {
   "cell_type": "code",
   "execution_count": 20,
   "id": "1bee0ee9",
   "metadata": {},
   "outputs": [],
   "source": [
    "df.drop(['manufacturer', 'region', 'state'], axis=1, inplace=True)"
   ]
  },
  {
   "cell_type": "code",
   "execution_count": 21,
   "id": "6230a119",
   "metadata": {},
   "outputs": [
    {
     "name": "stdout",
     "output_type": "stream",
     "text": [
      "<class 'pandas.core.frame.DataFrame'>\n",
      "Int64Index: 363282 entries, 27 to 426879\n",
      "Data columns (total 13 columns):\n",
      " #   Column        Non-Null Count   Dtype  \n",
      "---  ------        --------------   -----  \n",
      " 0   price         363282 non-null  int64  \n",
      " 1   year          363282 non-null  float64\n",
      " 2   model         359794 non-null  object \n",
      " 3   condition     225972 non-null  object \n",
      " 4   cylinders     213938 non-null  object \n",
      " 5   fuel          361178 non-null  object \n",
      " 6   odometer      363282 non-null  float64\n",
      " 7   title_status  357267 non-null  object \n",
      " 8   transmission  361793 non-null  object \n",
      " 9   drive         253940 non-null  object \n",
      " 10  size          101086 non-null  object \n",
      " 11  type          288233 non-null  object \n",
      " 12  paint_color   260487 non-null  object \n",
      "dtypes: float64(2), int64(1), object(10)\n",
      "memory usage: 38.8+ MB\n"
     ]
    }
   ],
   "source": [
    "df.info()"
   ]
  },
  {
   "cell_type": "code",
   "execution_count": 22,
   "id": "61b91b0d",
   "metadata": {},
   "outputs": [
    {
     "data": {
      "text/plain": [
       "24470"
      ]
     },
     "execution_count": 22,
     "metadata": {},
     "output_type": "execute_result"
    }
   ],
   "source": [
    "df.model.nunique()"
   ]
  },
  {
   "cell_type": "markdown",
   "id": "01ab169b",
   "metadata": {},
   "source": [
    "Too many unique values in 'model' so will depend on manufacturer for now--could maybe go back and and use regex to parse base model to reduce count, but not sure it will be worth it."
   ]
  },
  {
   "cell_type": "code",
   "execution_count": 23,
   "id": "6e1a2c77",
   "metadata": {},
   "outputs": [],
   "source": [
    "df.drop('model', axis=1, inplace=True)"
   ]
  },
  {
   "cell_type": "markdown",
   "id": "45071941",
   "metadata": {},
   "source": [
    "Finally, let's convert 'year' and 'odomeer' to type int"
   ]
  },
  {
   "cell_type": "code",
   "execution_count": 24,
   "id": "c461bf0f",
   "metadata": {},
   "outputs": [],
   "source": [
    "df = df.astype({\"year\":'int', \"odometer\":'int'}) "
   ]
  },
  {
   "cell_type": "code",
   "execution_count": 25,
   "id": "ca0643ad",
   "metadata": {},
   "outputs": [
    {
     "name": "stdout",
     "output_type": "stream",
     "text": [
      "<class 'pandas.core.frame.DataFrame'>\n",
      "Int64Index: 363282 entries, 27 to 426879\n",
      "Data columns (total 12 columns):\n",
      " #   Column        Non-Null Count   Dtype \n",
      "---  ------        --------------   ----- \n",
      " 0   price         363282 non-null  int64 \n",
      " 1   year          363282 non-null  int64 \n",
      " 2   condition     225972 non-null  object\n",
      " 3   cylinders     213938 non-null  object\n",
      " 4   fuel          361178 non-null  object\n",
      " 5   odometer      363282 non-null  int64 \n",
      " 6   title_status  357267 non-null  object\n",
      " 7   transmission  361793 non-null  object\n",
      " 8   drive         253940 non-null  object\n",
      " 9   size          101086 non-null  object\n",
      " 10  type          288233 non-null  object\n",
      " 11  paint_color   260487 non-null  object\n",
      "dtypes: int64(3), object(9)\n",
      "memory usage: 36.0+ MB\n"
     ]
    }
   ],
   "source": [
    "df.info()"
   ]
  },
  {
   "cell_type": "markdown",
   "id": "6b092998",
   "metadata": {},
   "source": [
    "## Missing Values"
   ]
  },
  {
   "cell_type": "code",
   "execution_count": 26,
   "id": "6c61c27b",
   "metadata": {},
   "outputs": [
    {
     "data": {
      "text/plain": [
       "price                0\n",
       "year                 0\n",
       "condition       137310\n",
       "cylinders       149344\n",
       "fuel              2104\n",
       "odometer             0\n",
       "title_status      6015\n",
       "transmission      1489\n",
       "drive           109342\n",
       "size            262196\n",
       "type             75049\n",
       "paint_color     102795\n",
       "dtype: int64"
      ]
     },
     "execution_count": 26,
     "metadata": {},
     "output_type": "execute_result"
    }
   ],
   "source": [
    "na_data = df.isna().sum()\n",
    "na_data"
   ]
  },
  {
   "cell_type": "markdown",
   "id": "6238df20",
   "metadata": {},
   "source": [
    "Quite a few NaNs -- the problematic ones are 'condition', 'cylinders', 'drive', 'size' and 'paint_color' as the represent 1/3 to 2/3 of the remaining dataset.  Let's see if we can do some intelligent substitution on the major features and use the *ffill* for the others."
   ]
  },
  {
   "cell_type": "code",
   "execution_count": 27,
   "id": "fedff337",
   "metadata": {},
   "outputs": [
    {
     "data": {
      "text/plain": [
       "good         113529\n",
       "excellent     87500\n",
       "like new      18887\n",
       "fair           4751\n",
       "new             939\n",
       "salvage         366\n",
       "Name: condition, dtype: int64"
      ]
     },
     "execution_count": 27,
     "metadata": {},
     "output_type": "execute_result"
    }
   ],
   "source": [
    "df.condition.value_counts()"
   ]
  },
  {
   "cell_type": "code",
   "execution_count": 28,
   "id": "59ec89e9",
   "metadata": {},
   "outputs": [
    {
     "data": {
      "text/plain": [
       "6 cylinders     0.387107\n",
       "4 cylinders     0.316307\n",
       "8 cylinders     0.276561\n",
       "5 cylinders     0.007353\n",
       "10 cylinders    0.005048\n",
       "other           0.004202\n",
       "3 cylinders     0.002641\n",
       "12 cylinders    0.000781\n",
       "Name: cylinders, dtype: float64"
      ]
     },
     "execution_count": 28,
     "metadata": {},
     "output_type": "execute_result"
    }
   ],
   "source": [
    "df.cylinders.value_counts(normalize=True)"
   ]
  },
  {
   "cell_type": "markdown",
   "id": "b7cf4be5",
   "metadata": {},
   "source": [
    "Let's base 'condition' on the vehicle's age and add a feature called *age*"
   ]
  },
  {
   "cell_type": "code",
   "execution_count": 29,
   "id": "7f0fc7db",
   "metadata": {},
   "outputs": [],
   "source": [
    "df['age'] = datetime.now().year - df['year']"
   ]
  },
  {
   "cell_type": "code",
   "execution_count": 30,
   "id": "b030b373",
   "metadata": {},
   "outputs": [
    {
     "name": "stdout",
     "output_type": "stream",
     "text": [
      "<class 'pandas.core.frame.DataFrame'>\n",
      "Int64Index: 363282 entries, 27 to 426879\n",
      "Data columns (total 13 columns):\n",
      " #   Column        Non-Null Count   Dtype \n",
      "---  ------        --------------   ----- \n",
      " 0   price         363282 non-null  int64 \n",
      " 1   year          363282 non-null  int64 \n",
      " 2   condition     225972 non-null  object\n",
      " 3   cylinders     213938 non-null  object\n",
      " 4   fuel          361178 non-null  object\n",
      " 5   odometer      363282 non-null  int64 \n",
      " 6   title_status  357267 non-null  object\n",
      " 7   transmission  361793 non-null  object\n",
      " 8   drive         253940 non-null  object\n",
      " 9   size          101086 non-null  object\n",
      " 10  type          288233 non-null  object\n",
      " 11  paint_color   260487 non-null  object\n",
      " 12  age           363282 non-null  int64 \n",
      "dtypes: int64(4), object(9)\n",
      "memory usage: 38.8+ MB\n"
     ]
    }
   ],
   "source": [
    "df.info()"
   ]
  },
  {
   "cell_type": "markdown",
   "id": "29a14533",
   "metadata": {},
   "source": [
    "age <= 1 --> new \\\n",
    "age >1 & <= 2 --> like new \\\n",
    "age > 2 & <= 4 --> excellent \\\n",
    "age > 4 & <= 8 --> good \\\n",
    "age > 8 & <= 20 --> fair \\\n",
    "age > 20 --> salvage"
   ]
  },
  {
   "cell_type": "code",
   "execution_count": 31,
   "id": "0882a7cf",
   "metadata": {},
   "outputs": [],
   "source": [
    "missing_condition = df['condition'].isna()\n",
    "\n",
    "condition_criteria = [df.loc[missing_condition, 'condition'] & df.loc[missing_condition, 'age'] <= 1,\n",
    "df.loc[missing_condition, 'condition'] & ((df.loc[missing_condition, 'age'] > 1) & (df.loc[missing_condition, 'age'] <= 2)),\n",
    "df.loc[missing_condition, 'condition'] & ((df.loc[missing_condition, 'age'] > 2) & (df.loc[missing_condition, 'age'] <= 4)),\n",
    "df.loc[missing_condition, 'condition'] & ((df.loc[missing_condition, 'age'] > 4) & (df.loc[missing_condition, 'age'] <= 8)),\n",
    "df.loc[missing_condition, 'condition'] & ((df.loc[missing_condition, 'age'] > 8) & (df.loc[missing_condition, 'age'] <= 20)),\n",
    "df.loc[missing_condition, 'condition'] & df.loc[missing_condition, 'age'] > 20]\n",
    "\n",
    "condition_list =['new', 'like new', 'excellent', 'good', 'fair', 'salvage']\n",
    "df.loc[missing_condition, 'condition'] = np.select(condition_criteria, condition_list)\n"
   ]
  },
  {
   "cell_type": "code",
   "execution_count": 32,
   "id": "cec930db",
   "metadata": {},
   "outputs": [
    {
     "data": {
      "text/plain": [
       "price                0\n",
       "year                 0\n",
       "condition            0\n",
       "cylinders       149344\n",
       "fuel              2104\n",
       "odometer             0\n",
       "title_status      6015\n",
       "transmission      1489\n",
       "drive           109342\n",
       "size            262196\n",
       "type             75049\n",
       "paint_color     102795\n",
       "age                  0\n",
       "dtype: int64"
      ]
     },
     "execution_count": 32,
     "metadata": {},
     "output_type": "execute_result"
    }
   ],
   "source": [
    "na_data = df.isna().sum()\n",
    "na_data"
   ]
  },
  {
   "cell_type": "markdown",
   "id": "1ca4ddea",
   "metadata": {},
   "source": [
    "Fill NaNs with a defualt vlaue if there is an obvious choice, or use ffill is there is a more even distribution"
   ]
  },
  {
   "cell_type": "code",
   "execution_count": 33,
   "id": "bacd8a46",
   "metadata": {},
   "outputs": [
    {
     "data": {
      "text/plain": [
       "6 cylinders     0.387107\n",
       "4 cylinders     0.316307\n",
       "8 cylinders     0.276561\n",
       "5 cylinders     0.007353\n",
       "10 cylinders    0.005048\n",
       "other           0.004202\n",
       "3 cylinders     0.002641\n",
       "12 cylinders    0.000781\n",
       "Name: cylinders, dtype: float64"
      ]
     },
     "execution_count": 33,
     "metadata": {},
     "output_type": "execute_result"
    }
   ],
   "source": [
    "df.cylinders.value_counts(normalize=True)"
   ]
  },
  {
   "cell_type": "code",
   "execution_count": 34,
   "id": "16879c1d",
   "metadata": {},
   "outputs": [],
   "source": [
    "df['cylinders'] = df['cylinders'].fillna(method='ffill')"
   ]
  },
  {
   "cell_type": "code",
   "execution_count": 35,
   "id": "bd66f682",
   "metadata": {},
   "outputs": [
    {
     "data": {
      "text/plain": [
       "gas         0.843473\n",
       "other       0.074744\n",
       "diesel      0.064525\n",
       "hybrid      0.012930\n",
       "electric    0.004328\n",
       "Name: fuel, dtype: float64"
      ]
     },
     "execution_count": 35,
     "metadata": {},
     "output_type": "execute_result"
    }
   ],
   "source": [
    "df.fuel.value_counts(normalize=True)"
   ]
  },
  {
   "cell_type": "code",
   "execution_count": 36,
   "id": "8ed964fb",
   "metadata": {},
   "outputs": [],
   "source": [
    "df['fuel'] = df['fuel'].fillna('gas')"
   ]
  },
  {
   "cell_type": "code",
   "execution_count": 37,
   "id": "e643566c",
   "metadata": {},
   "outputs": [
    {
     "data": {
      "text/plain": [
       "clean         0.966372\n",
       "rebuilt       0.019131\n",
       "salvage       0.009760\n",
       "lien          0.003812\n",
       "missing       0.000705\n",
       "parts only    0.000218\n",
       "Name: title_status, dtype: float64"
      ]
     },
     "execution_count": 37,
     "metadata": {},
     "output_type": "execute_result"
    }
   ],
   "source": [
    "df.title_status.value_counts(normalize=True)"
   ]
  },
  {
   "cell_type": "code",
   "execution_count": 38,
   "id": "1b495912",
   "metadata": {},
   "outputs": [],
   "source": [
    "df['title_status'] = df['title_status'].fillna('clean')"
   ]
  },
  {
   "cell_type": "code",
   "execution_count": 39,
   "id": "82ea4222",
   "metadata": {},
   "outputs": [
    {
     "data": {
      "text/plain": [
       "automatic    0.782212\n",
       "other        0.166617\n",
       "manual       0.051170\n",
       "Name: transmission, dtype: float64"
      ]
     },
     "execution_count": 39,
     "metadata": {},
     "output_type": "execute_result"
    }
   ],
   "source": [
    "df.transmission.value_counts(normalize=True)"
   ]
  },
  {
   "cell_type": "code",
   "execution_count": 40,
   "id": "7c1afd55",
   "metadata": {},
   "outputs": [],
   "source": [
    "df['transmission'] = df['transmission'].fillna('automatic')"
   ]
  },
  {
   "cell_type": "code",
   "execution_count": 41,
   "id": "0e9792ff",
   "metadata": {},
   "outputs": [
    {
     "data": {
      "text/plain": [
       "4wd    0.442762\n",
       "fwd    0.366386\n",
       "rwd    0.190852\n",
       "Name: drive, dtype: float64"
      ]
     },
     "execution_count": 41,
     "metadata": {},
     "output_type": "execute_result"
    }
   ],
   "source": [
    "df.drive.value_counts(normalize=True)"
   ]
  },
  {
   "cell_type": "code",
   "execution_count": 42,
   "id": "a5a0d06c",
   "metadata": {},
   "outputs": [],
   "source": [
    "df['drive'] = df['drive'].fillna(method='ffill')"
   ]
  },
  {
   "cell_type": "code",
   "execution_count": 43,
   "id": "c980d0bc",
   "metadata": {},
   "outputs": [
    {
     "data": {
      "text/plain": [
       "array([nan, 'full-size', 'mid-size', 'compact', 'sub-compact'],\n",
       "      dtype=object)"
      ]
     },
     "execution_count": 43,
     "metadata": {},
     "output_type": "execute_result"
    }
   ],
   "source": [
    "pd.unique(df['size'])"
   ]
  },
  {
   "cell_type": "code",
   "execution_count": 44,
   "id": "64bd5658",
   "metadata": {},
   "outputs": [],
   "source": [
    "df['size'] = df['size'].fillna(method='ffill')"
   ]
  },
  {
   "cell_type": "code",
   "execution_count": 45,
   "id": "64df088f",
   "metadata": {},
   "outputs": [
    {
     "data": {
      "text/plain": [
       "sedan          0.262257\n",
       "SUV            0.230109\n",
       "pickup         0.135609\n",
       "truck          0.096363\n",
       "other          0.066477\n",
       "coupe          0.055920\n",
       "hatchback      0.053432\n",
       "wagon          0.033150\n",
       "van            0.026052\n",
       "convertible    0.022371\n",
       "mini-van       0.015099\n",
       "offroad        0.001693\n",
       "bus            0.001468\n",
       "Name: type, dtype: float64"
      ]
     },
     "execution_count": 45,
     "metadata": {},
     "output_type": "execute_result"
    }
   ],
   "source": [
    "df.type.value_counts(normalize=True)"
   ]
  },
  {
   "cell_type": "code",
   "execution_count": 46,
   "id": "f1e9eb06",
   "metadata": {},
   "outputs": [],
   "source": [
    "df['type'] = df['type'].fillna(method='ffill')"
   ]
  },
  {
   "cell_type": "code",
   "execution_count": 47,
   "id": "f4879669",
   "metadata": {},
   "outputs": [
    {
     "data": {
      "text/plain": [
       "white     0.264393\n",
       "black     0.215147\n",
       "silver    0.147420\n",
       "blue      0.105583\n",
       "red       0.102811\n",
       "grey      0.082783\n",
       "green     0.023168\n",
       "brown     0.022039\n",
       "custom    0.021970\n",
       "yellow    0.006411\n",
       "orange    0.006119\n",
       "purple    0.002154\n",
       "Name: paint_color, dtype: float64"
      ]
     },
     "execution_count": 47,
     "metadata": {},
     "output_type": "execute_result"
    }
   ],
   "source": [
    "df.paint_color.value_counts(normalize=True)"
   ]
  },
  {
   "cell_type": "code",
   "execution_count": 48,
   "id": "be0c860a",
   "metadata": {},
   "outputs": [],
   "source": [
    "df['paint_color'] = df['paint_color'].fillna(method='ffill')"
   ]
  },
  {
   "cell_type": "code",
   "execution_count": 49,
   "id": "77fa7806",
   "metadata": {},
   "outputs": [
    {
     "data": {
      "text/plain": [
       "price           0\n",
       "year            0\n",
       "condition       0\n",
       "cylinders       0\n",
       "fuel            0\n",
       "odometer        0\n",
       "title_status    0\n",
       "transmission    0\n",
       "drive           4\n",
       "size            4\n",
       "type            0\n",
       "paint_color     0\n",
       "age             0\n",
       "dtype: int64"
      ]
     },
     "execution_count": 49,
     "metadata": {},
     "output_type": "execute_result"
    }
   ],
   "source": [
    "na_data = df.isna().sum()\n",
    "na_data"
   ]
  },
  {
   "cell_type": "markdown",
   "id": "2e13b35b",
   "metadata": {},
   "source": [
    "Let's clean up those odd rows that should have been caught earlier and give us a clean new data set to work with"
   ]
  },
  {
   "cell_type": "code",
   "execution_count": 50,
   "id": "4933693a",
   "metadata": {},
   "outputs": [],
   "source": [
    "clean_df = df.dropna()"
   ]
  },
  {
   "cell_type": "code",
   "execution_count": 51,
   "id": "5bec7873",
   "metadata": {},
   "outputs": [
    {
     "data": {
      "text/plain": [
       "price           0\n",
       "year            0\n",
       "condition       0\n",
       "cylinders       0\n",
       "fuel            0\n",
       "odometer        0\n",
       "title_status    0\n",
       "transmission    0\n",
       "drive           0\n",
       "size            0\n",
       "type            0\n",
       "paint_color     0\n",
       "age             0\n",
       "dtype: int64"
      ]
     },
     "execution_count": 51,
     "metadata": {},
     "output_type": "execute_result"
    }
   ],
   "source": [
    "na_data = clean_df.isna().sum()\n",
    "na_data"
   ]
  },
  {
   "cell_type": "markdown",
   "id": "4148636f",
   "metadata": {},
   "source": [
    "Ta-Da!"
   ]
  },
  {
   "cell_type": "code",
   "execution_count": 52,
   "id": "71750579",
   "metadata": {},
   "outputs": [
    {
     "name": "stdout",
     "output_type": "stream",
     "text": [
      "<class 'pandas.core.frame.DataFrame'>\n",
      "Int64Index: 363278 entries, 31 to 426879\n",
      "Data columns (total 13 columns):\n",
      " #   Column        Non-Null Count   Dtype \n",
      "---  ------        --------------   ----- \n",
      " 0   price         363278 non-null  int64 \n",
      " 1   year          363278 non-null  int64 \n",
      " 2   condition     363278 non-null  object\n",
      " 3   cylinders     363278 non-null  object\n",
      " 4   fuel          363278 non-null  object\n",
      " 5   odometer      363278 non-null  int64 \n",
      " 6   title_status  363278 non-null  object\n",
      " 7   transmission  363278 non-null  object\n",
      " 8   drive         363278 non-null  object\n",
      " 9   size          363278 non-null  object\n",
      " 10  type          363278 non-null  object\n",
      " 11  paint_color   363278 non-null  object\n",
      " 12  age           363278 non-null  int64 \n",
      "dtypes: int64(4), object(9)\n",
      "memory usage: 38.8+ MB\n"
     ]
    }
   ],
   "source": [
    "clean_df.info()"
   ]
  },
  {
   "cell_type": "code",
   "execution_count": 53,
   "id": "be5faffb",
   "metadata": {},
   "outputs": [],
   "source": [
    "clean_df.to_csv('data/clean_vehicles.csv')"
   ]
  },
  {
   "cell_type": "code",
   "execution_count": null,
   "id": "0a160ceb",
   "metadata": {},
   "outputs": [],
   "source": []
  }
 ],
 "metadata": {
  "kernelspec": {
   "display_name": "Python 3 (ipykernel)",
   "language": "python",
   "name": "python3"
  },
  "language_info": {
   "codemirror_mode": {
    "name": "ipython",
    "version": 3
   },
   "file_extension": ".py",
   "mimetype": "text/x-python",
   "name": "python",
   "nbconvert_exporter": "python",
   "pygments_lexer": "ipython3",
   "version": "3.11.4"
  }
 },
 "nbformat": 4,
 "nbformat_minor": 5
}
